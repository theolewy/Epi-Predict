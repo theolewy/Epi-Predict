{
 "cells": [
  {
   "cell_type": "code",
   "execution_count": 45,
   "id": "macro-personal",
   "metadata": {},
   "outputs": [
    {
     "name": "stdout",
     "output_type": "stream",
     "text": [
      "The autoreload extension is already loaded. To reload it, use:\n",
      "  %reload_ext autoreload\n"
     ]
    }
   ],
   "source": [
    "# Imports\n",
    "%load_ext autoreload\n",
    "%autoreload 2\n",
    "\n",
    "import sys\n",
    "sys.path.append(\"../\") \n",
    "\n",
    "import matplotlib.pyplot as plt\n",
    "import jax.numpy as jnp\n",
    "import numpyro\n",
    "import pandas as pd\n",
    "import arviz as az\n",
    "\n",
    "numpyro.set_host_device_count(4)\n",
    "\n",
    "from epimodel import run_model, default_model, arma_model, latent_nn_model, EpidemiologicalParameters, preprocess_data\n",
    "from epimodel.models.model_predict_utils import *\n",
    "from epimodel.models.model_build_utils import *"
   ]
  },
  {
   "cell_type": "code",
   "execution_count": 46,
   "id": "dressed-mileage",
   "metadata": {},
   "outputs": [
    {
     "name": "stdout",
     "output_type": "stream",
     "text": [
      "Processing data from 2020-08-01 00:00:00 to 2021-01-02 00:00:00\n",
      "Processing data from 2020-08-01 00:00:00 to 2021-01-22 00:00:00\n",
      "Note: under drop_outdoor gathering aggregation, the gatherings_aggregation_type is disregarded\n",
      "Note: under drop_outdoor gathering aggregation, the gatherings_aggregation_type is disregarded\n"
     ]
    }
   ],
   "source": [
    "# dates for data processing\n",
    "start_date=\"2020-08-01\"\n",
    "# end_date=\"2021-01-02\"\n",
    "end_date=\"2020-12-10\"\n",
    "\n",
    "# Gets data\n",
    "data = preprocess_data('../data/all_merged_data_2021-01-22.csv', start_date=start_date, end_date=end_date)\n",
    "all_data = preprocess_data('../data/all_merged_data_2021-01-22.csv')\n",
    "\n",
    "data.featurize()\n",
    "all_data.featurize()\n"
   ]
  },
  {
   "cell_type": "code",
   "execution_count": 47,
   "id": "oriental-advertiser",
   "metadata": {},
   "outputs": [],
   "source": [
    "# Num days to predict after end of data\n",
    "\n",
    "look_ahead = 23\n",
    "\n",
    "ep = EpidemiologicalParameters()"
   ]
  },
  {
   "cell_type": "code",
   "execution_count": 51,
   "id": "ready-track",
   "metadata": {},
   "outputs": [],
   "source": [
    "samples = []\n",
    "\n",
    "for sample_name in os.listdir('samples/arma/learn/test'):\n",
    "\n",
    "    f_name = 'samples/arma/learn/test/' + sample_name\n",
    "    try:\n",
    "        samples.append(netcdf_to_dict(f_name))\n",
    "    except:\n",
    "        continue\n"
   ]
  },
  {
   "cell_type": "code",
   "execution_count": 54,
   "id": "affecting-turkish",
   "metadata": {},
   "outputs": [
    {
     "data": {
      "text/plain": [
       "<Figure size 432x288 with 0 Axes>"
      ]
     },
     "metadata": {},
     "output_type": "display_data"
    }
   ],
   "source": [
    "prediction_date = pd.to_datetime(end_date)\n",
    "\n",
    "\n",
    "plot_graph(tuple(cases_mse_list), '1.png', prediction_date, region=None)\n",
    "plot_graph(tuple(deaths_mse_list), '2.png', prediction_date, region=None)\n",
    "\n",
    "plot_graph(tuple(cases_crps_list), '3.png', prediction_date, region=None)\n",
    "plot_graph(tuple(deaths_crps_list), '4.png', prediction_date, region=None)\n",
    "\n"
   ]
  },
  {
   "cell_type": "code",
   "execution_count": 50,
   "id": "loving-strength",
   "metadata": {},
   "outputs": [],
   "source": [
    "all_settings = []\n",
    "for sample in samples:\n",
    "    \n",
    "    all_settings.append(samples_to_model_settings(sample))\n",
    "    print(all_settings[-1])"
   ]
  },
  {
   "cell_type": "code",
   "execution_count": 43,
   "id": "future-token",
   "metadata": {},
   "outputs": [],
   "source": [
    "future_cms = all_data.active_cms[:,:, data.nDs:]\n",
    "\n",
    "cases_list = []\n",
    "deaths_list = []\n",
    "Rt_list = []\n",
    "Rt_cms_list = []\n",
    "Rt_noise_list = []\n",
    "\n",
    "cases_mse_list = []\n",
    "deaths_mse_list = []\n",
    "\n",
    "cases_crps_list = []\n",
    "deaths_crps_list = []\n",
    "\n",
    "cases_mse_sums_list = []\n",
    "deaths_mse_sums_list = []\n",
    "\n",
    "cases_crps_sums_list = []\n",
    "deaths_crps_sums_list = []\n",
    "\n",
    "# gets expected cases and deaths\n",
    "\n",
    "for ind, sample in enumerate(samples):\n",
    "    \n",
    "    cases_total_arma, deaths_total_arma, Rt_total_arma, \\\n",
    "            Rt_cms_total_arma, Rt_noise_total_arma = arma_noise_predictor(sample, \n",
    "                                                                          ep,                  \n",
    "                                                                          data.active_cms, \n",
    "                                                                          look_ahead, \n",
    "                                                                          future_cms=future_cms,        \n",
    "                                                                          ignore_last_days=0)\n",
    "    cases_list.append(cases_total_arma)\n",
    "    deaths_list.append(deaths_total_arma)\n",
    "    Rt_list.append(Rt_total_arma)\n",
    "    Rt_cms_list.append(Rt_cms_total_arma)\n",
    "    Rt_noise_list.append(Rt_noise_total_arma)\n",
    "\n",
    "    cases_mse_arma, cases_crps_arma = get_prediction_metrics(cases_total_arma, all_data.new_cases.data, data.nDs, verbose=False, skip_crps=False)\n",
    "    deaths_mse_arma, deaths_crps_arma = get_prediction_metrics(deaths_total_arma, all_data.new_deaths.data, data.nDs, verbose=False, skip_crps=False)\n",
    "\n",
    "    cases_mse_list.append(cases_mse_arma)\n",
    "    deaths_mse_list.append(deaths_mse_arma)\n",
    "    cases_crps_list.append(cases_crps_arma)\n",
    "    deaths_crps_list.append(deaths_crps_arma)\n",
    "    \n",
    "    cases_mse_sums_list.append(jnp.sum(cases_mse_arma[-look_ahead:]))\n",
    "    deaths_mse_sums_list.append(jnp.sum(deaths_mse_arma[-look_ahead:]))\n",
    "    cases_crps_sums_list.append(jnp.sum(cases_crps_arma[-look_ahead:]))\n",
    "    deaths_crps_sums_list.append(jnp.sum(deaths_crps_arma[-look_ahead:]))"
   ]
  },
  {
   "cell_type": "code",
   "execution_count": 32,
   "id": "constant-comparative",
   "metadata": {},
   "outputs": [
    {
     "data": {
      "text/plain": [
       "[DeviceArray(2547.1824, dtype=float32),\n",
       " DeviceArray(2513.879, dtype=float32),\n",
       " DeviceArray(2489.246, dtype=float32),\n",
       " DeviceArray(2596.3713, dtype=float32),\n",
       " DeviceArray(2505.2095, dtype=float32),\n",
       " DeviceArray(3113.7966, dtype=float32),\n",
       " DeviceArray(2625.2368, dtype=float32),\n",
       " DeviceArray(2511.5679, dtype=float32),\n",
       " DeviceArray(2592.6082, dtype=float32),\n",
       " DeviceArray(3070.517, dtype=float32),\n",
       " DeviceArray(2528.1345, dtype=float32),\n",
       " DeviceArray(2494.2434, dtype=float32),\n",
       " DeviceArray(2636.453, dtype=float32),\n",
       " DeviceArray(2664.6462, dtype=float32)]"
      ]
     },
     "execution_count": 32,
     "metadata": {},
     "output_type": "execute_result"
    }
   ],
   "source": [
    "cases_crps_sums_list"
   ]
  },
  {
   "cell_type": "code",
   "execution_count": 36,
   "id": "fleet-semiconductor",
   "metadata": {},
   "outputs": [
    {
     "data": {
      "text/plain": [
       "[DeviceArray(77.01107, dtype=float32),\n",
       " DeviceArray(76.43733, dtype=float32),\n",
       " DeviceArray(76.26774, dtype=float32),\n",
       " DeviceArray(76.34344, dtype=float32),\n",
       " DeviceArray(76.34181, dtype=float32),\n",
       " DeviceArray(75.58963, dtype=float32),\n",
       " DeviceArray(75.9007, dtype=float32),\n",
       " DeviceArray(76.3267, dtype=float32),\n",
       " DeviceArray(76.924866, dtype=float32),\n",
       " DeviceArray(72.96018, dtype=float32),\n",
       " DeviceArray(76.70638, dtype=float32),\n",
       " DeviceArray(76.28216, dtype=float32),\n",
       " DeviceArray(76.106834, dtype=float32),\n",
       " DeviceArray(77.377464, dtype=float32)]"
      ]
     },
     "execution_count": 36,
     "metadata": {},
     "output_type": "execute_result"
    }
   ],
   "source": [
    "deaths_crps_sums_list"
   ]
  },
  {
   "cell_type": "code",
   "execution_count": 42,
   "id": "immediate-machinery",
   "metadata": {},
   "outputs": [
    {
     "data": {
      "text/plain": [
       "<Figure size 432x288 with 0 Axes>"
      ]
     },
     "metadata": {},
     "output_type": "display_data"
    }
   ],
   "source": [
    "prediction_date = pd.to_datetime(end_date)\n",
    "\n",
    "\n",
    "plot_graph(tuple(cases_mse_list), 'arma_p_q_(ignore_last_0)_cases_mse.png', prediction_date, region=None)\n",
    "plot_graph(tuple(deaths_mse_list), 'arma_p_q_(ignore_last_0)_deaths_mse.png', prediction_date, region=None)\n",
    "\n",
    "plot_graph(tuple(cases_crps_list), 'arma_p_q_(ignore_last_0)_cases_crps.png', prediction_date, region=None)\n",
    "plot_graph(tuple(deaths_crps_list), 'arma_p_q_(ignore_last_0)_deaths_crps.png', prediction_date, region=None)\n",
    "\n"
   ]
  },
  {
   "cell_type": "code",
   "execution_count": null,
   "id": "saved-minneapolis",
   "metadata": {},
   "outputs": [],
   "source": [
    "# BEST IS p = max, q = min so take this sample\n",
    "\n",
    "sample = netcdf_to_dict('samples/arma/learn/cross_validate/')\n"
   ]
  },
  {
   "cell_type": "code",
   "execution_count": 44,
   "id": "pleased-conjunction",
   "metadata": {},
   "outputs": [
    {
     "ename": "NameError",
     "evalue": "name 'true_cases_arma' is not defined",
     "output_type": "error",
     "traceback": [
      "\u001b[0;31m---------------------------------------------------------------------------\u001b[0m",
      "\u001b[0;31mNameError\u001b[0m                                 Traceback (most recent call last)",
      "Input \u001b[0;32mIn [44]\u001b[0m, in \u001b[0;36m<cell line: 14>\u001b[0;34m()\u001b[0m\n\u001b[1;32m     26\u001b[0m Rt_cms_list\u001b[38;5;241m.\u001b[39mappend(Rt_cms_total_arma)\n\u001b[1;32m     27\u001b[0m Rt_noise_list\u001b[38;5;241m.\u001b[39mappend(Rt_noise_total_arma)\n\u001b[0;32m---> 29\u001b[0m cases_mse_arma, cases_crps_arma \u001b[38;5;241m=\u001b[39m get_prediction_metrics(cases_total_arma, \u001b[43mtrue_cases_arma\u001b[49m, data\u001b[38;5;241m.\u001b[39mnDs, verbose\u001b[38;5;241m=\u001b[39m\u001b[38;5;28;01mFalse\u001b[39;00m, skip_crps\u001b[38;5;241m=\u001b[39m\u001b[38;5;28;01mTrue\u001b[39;00m)\n\u001b[1;32m     30\u001b[0m deaths_mse_arma, deaths_crps_arma \u001b[38;5;241m=\u001b[39m get_prediction_metrics(deaths_total_arma, true_deaths_arma, data\u001b[38;5;241m.\u001b[39mnDs, verbose\u001b[38;5;241m=\u001b[39m\u001b[38;5;28;01mFalse\u001b[39;00m, skip_crps\u001b[38;5;241m=\u001b[39m\u001b[38;5;28;01mTrue\u001b[39;00m)\n\u001b[1;32m     32\u001b[0m cases_mse_list\u001b[38;5;241m.\u001b[39mappend(cases_mse_arma)\n",
      "\u001b[0;31mNameError\u001b[0m: name 'true_cases_arma' is not defined"
     ]
    }
   ],
   "source": [
    "future_cms = all_data.active_cms[:,:, data.nDs:]\n",
    "\n",
    "cases_list = []\n",
    "deaths_list = []\n",
    "Rt_list = []\n",
    "Rt_cms_list = []\n",
    "Rt_noise_list = []\n",
    "\n",
    "cases_mse_list = []\n",
    "deaths_mse_list = []\n",
    "\n",
    "\n",
    "\n",
    "for ignore_last_days in range(0,28,2):\n",
    "    \n",
    "    cases_total_arma, deaths_total_arma, Rt_total_arma, \\\n",
    "            Rt_cms_total_arma, Rt_noise_total_arma = arma_noise_predictor(sample, \n",
    "                                                                          ep,                  \n",
    "                                                                          data.active_cms, \n",
    "                                                                          look_ahead, \n",
    "                                                                          future_cms=future_cms,        \n",
    "                                                                          ignore_last_days=ignore_last_days)\n",
    "    cases_list.append(cases_total_arma)\n",
    "    deaths_list.append(deaths_total_arma)\n",
    "    Rt_list.append(Rt_total_arma)\n",
    "    Rt_cms_list.append(Rt_cms_total_arma)\n",
    "    Rt_noise_list.append(Rt_noise_total_arma)\n",
    "\n",
    "    cases_mse_arma, cases_crps_arma = get_prediction_metrics(cases_total_arma, true_cases_arma, data.nDs, verbose=False, skip_crps=True)\n",
    "    deaths_mse_arma, deaths_crps_arma = get_prediction_metrics(deaths_total_arma, true_deaths_arma, data.nDs, verbose=False, skip_crps=True)\n",
    "\n",
    "    cases_mse_list.append(cases_mse_arma)\n",
    "    deaths_mse_list.append(deaths_mse_arma)"
   ]
  },
  {
   "cell_type": "code",
   "execution_count": 11,
   "id": "dense-irrigation",
   "metadata": {},
   "outputs": [
    {
     "data": {
      "text/plain": [
       "<Figure size 432x288 with 0 Axes>"
      ]
     },
     "metadata": {},
     "output_type": "display_data"
    }
   ],
   "source": [
    "prediction_date = pd.to_datetime(end_date)\n",
    "\n",
    "\n",
    "plot_graph(tuple(cases_mse_list), 'arma_ignore_last_cases_mse.png', prediction_date, region=None)\n",
    "plot_graph(tuple(deaths_mse_list), 'arma_ignore_last_deaths_mse.png', prediction_date, region=None)\n"
   ]
  },
  {
   "cell_type": "code",
   "execution_count": null,
   "id": "sudden-sequence",
   "metadata": {},
   "outputs": [],
   "source": [
    "# BEST IS IGNORE_LAST = 4/5 days"
   ]
  }
 ],
 "metadata": {
  "kernelspec": {
   "display_name": "Python 3",
   "language": "python",
   "name": "python3"
  },
  "language_info": {
   "codemirror_mode": {
    "name": "ipython",
    "version": 3
   },
   "file_extension": ".py",
   "mimetype": "text/x-python",
   "name": "python",
   "nbconvert_exporter": "python",
   "pygments_lexer": "ipython3",
   "version": "3.8.13"
  }
 },
 "nbformat": 4,
 "nbformat_minor": 5
}
