{
 "cells": [
  {
   "cell_type": "code",
   "execution_count": 1,
   "id": "psychological-china",
   "metadata": {},
   "outputs": [
    {
     "name": "stderr",
     "output_type": "stream",
     "text": [
      "<frozen importlib._bootstrap>:219: RuntimeWarning: scipy._lib.messagestream.MessageStream size changed, may indicate binary incompatibility. Expected 56 from C header, got 64 from PyObject\n",
      "Importing plotly failed. Interactive plots will not work.\n"
     ]
    }
   ],
   "source": [
    "# Imports\n",
    "%load_ext autoreload\n",
    "%autoreload 2\n",
    "\n",
    "import sys, os\n",
    "sys.path.append(\"../\") \n",
    "\n",
    "import matplotlib.pyplot as plt\n",
    "import jax.numpy as jnp\n",
    "import numpyro\n",
    "import pandas as pd\n",
    "import arviz as az\n",
    "\n",
    "\n",
    "numpyro.set_host_device_count(4)\n",
    "\n",
    "from epimodel import run_model, default_model, arma_model, latent_nn_model, EpidemiologicalParameters, preprocess_data\n",
    "from epimodel.models.model_predict_utils import *\n",
    "from epimodel.models.model_build_utils import *"
   ]
  },
  {
   "cell_type": "code",
   "execution_count": 2,
   "id": "embedded-information",
   "metadata": {},
   "outputs": [
    {
     "name": "stdout",
     "output_type": "stream",
     "text": [
      "Processing data from 2020-08-01 00:00:00 to 2021-01-02 00:00:00\n",
      "Processing data from 2020-08-01 00:00:00 to 2021-01-22 00:00:00\n",
      "Note: under drop_outdoor gathering aggregation, the gatherings_aggregation_type is disregarded\n",
      "Note: under drop_outdoor gathering aggregation, the gatherings_aggregation_type is disregarded\n"
     ]
    }
   ],
   "source": [
    "# dates for data processing\n",
    "start_date=\"2020-08-01\"\n",
    "end_date=\"2021-01-02\"\n",
    "\n",
    "# Gets data\n",
    "data = preprocess_data('../data/all_merged_data_2021-01-22.csv', start_date=start_date, end_date=end_date)\n",
    "all_data = preprocess_data('../data/all_merged_data_2021-01-22.csv')\n",
    "# data = preprocess_data('../data/medium_dataset.csv', start_date=start_date, end_date=end_date)\n",
    "# all_data = preprocess_data('../data/medium_dataset.csv')\n",
    "\n",
    "data.featurize()\n",
    "all_data.featurize()\n"
   ]
  },
  {
   "cell_type": "code",
   "execution_count": 3,
   "id": "alike-resort",
   "metadata": {},
   "outputs": [],
   "source": [
    "# Num days to predict after end of data\n",
    "\n",
    "look_ahead = 20\n",
    "\n",
    "ep = EpidemiologicalParameters()"
   ]
  },
  {
   "cell_type": "code",
   "execution_count": 4,
   "id": "favorite-massachusetts",
   "metadata": {},
   "outputs": [],
   "source": [
    "samples = []\n",
    "\n",
    "for sample_name in os.listdir('samples/nn/cross_validate'):\n",
    "\n",
    "    f_name = 'samples/nn/cross_validate/' + sample_name\n",
    "    \n",
    "    samples.append(netcdf_to_dict(f_name))\n"
   ]
  },
  {
   "cell_type": "code",
   "execution_count": 5,
   "id": "religious-hanging",
   "metadata": {},
   "outputs": [
    {
     "name": "stdout",
     "output_type": "stream",
     "text": [
      "{'n_days_nn_input': 21, 'infer_cfr': False, 'input_death': False, 'D_layers': [10, 2], 'R_period': 1, 'bnn_regulariser': 0.3, 'preprocessed_data': 'summary'}\n",
      "{'n_days_nn_input': 21, 'infer_cfr': False, 'input_death': False, 'D_layers': [5, 5, 5], 'R_period': 1, 'bnn_regulariser': 0.3, 'preprocessed_data': 'summary'}\n",
      "{'n_days_nn_input': 21, 'infer_cfr': False, 'input_death': True, 'D_layers': [5, 5, 5], 'R_period': 1, 'bnn_regulariser': 0.3, 'preprocessed_data': 'summary'}\n",
      "{'n_days_nn_input': 21, 'infer_cfr': False, 'input_death': True, 'D_layers': [10, 2], 'R_period': 1, 'bnn_regulariser': 0.3, 'preprocessed_data': 'summary'}\n",
      "{'n_days_nn_input': 21, 'infer_cfr': False, 'input_death': True, 'D_layers': [5, 5, 5], 'R_period': 1, 'bnn_regulariser': 1, 'preprocessed_data': 'summary'}\n",
      "{'n_days_nn_input': 21, 'infer_cfr': False, 'input_death': False, 'D_layers': [10, 2], 'R_period': 1, 'bnn_regulariser': 1, 'preprocessed_data': 'summary'}\n",
      "{'n_days_nn_input': 21, 'infer_cfr': False, 'input_death': False, 'D_layers': [5, 5, 5], 'R_period': 1, 'bnn_regulariser': 1, 'preprocessed_data': 'summary'}\n",
      "{'n_days_nn_input': 21, 'infer_cfr': False, 'input_death': True, 'D_layers': [10, 2], 'R_period': 1, 'bnn_regulariser': 1, 'preprocessed_data': 'summary'}\n",
      "{'n_days_nn_input': 21, 'infer_cfr': False, 'input_death': True, 'D_layers': [10, 2], 'R_period': 1, 'bnn_regulariser': 3, 'preprocessed_data': 'summary'}\n",
      "{'n_days_nn_input': 21, 'infer_cfr': False, 'input_death': True, 'D_layers': [5, 5, 5], 'R_period': 1, 'bnn_regulariser': 3, 'preprocessed_data': 'summary'}\n",
      "{'n_days_nn_input': 21, 'infer_cfr': False, 'input_death': False, 'D_layers': [5, 5, 5], 'R_period': 1, 'bnn_regulariser': 3, 'preprocessed_data': 'summary'}\n",
      "{'n_days_nn_input': 21, 'infer_cfr': False, 'input_death': False, 'D_layers': [10, 2], 'R_period': 1, 'bnn_regulariser': 3, 'preprocessed_data': 'summary'}\n"
     ]
    }
   ],
   "source": [
    "for sample in samples:\n",
    "    \n",
    "    print(samples_to_model_settings(sample))"
   ]
  },
  {
   "cell_type": "code",
   "execution_count": 6,
   "id": "intended-final",
   "metadata": {},
   "outputs": [],
   "source": [
    "samples_all_data_arma = netcdf_to_dict('samples/arma/p1q0_all.netcdf')\n",
    "\n",
    "true_cases_arma = np.percentile(samples_all_data_arma['expected_cases'], 50, axis=0) \n",
    "true_deaths_arma = np.percentile(samples_all_data_arma['expected_deaths'], 50, axis=0) "
   ]
  },
  {
   "cell_type": "code",
   "execution_count": 7,
   "id": "adequate-berry",
   "metadata": {},
   "outputs": [],
   "source": [
    "case_totals_list = []\n",
    "deaths_total_list = []\n",
    "Rt_total_list = []\n",
    "\n",
    "cases_mse_list = []\n",
    "deaths_mse_list = []\n",
    "\n",
    "skip_crps = True\n",
    "verbose = False\n",
    "\n",
    "for sample in samples:\n",
    "    \n",
    "    cases_total_nn, deaths_total_nn, Rt_total_nn, cfr_total_nn = nn_predictor(sample, data, ep, look_ahead)\n",
    "    \n",
    "    case_totals_list.append(cases_total_nn)\n",
    "    deaths_total_list.append(deaths_total_list)\n",
    "    Rt_total_list.append(deaths_total_list)\n",
    "    \n",
    "    cases_mse, cases_crps = get_prediction_metrics(cases_total_nn, true_cases_arma, data.nDs, verbose=False, skip_crps=True)\n",
    "    deaths_mse, deaths_crps = get_prediction_metrics(deaths_total_nn, true_deaths_arma, data.nDs, verbose=False, skip_crps=True)\n",
    "    \n",
    "    cases_mse_list.append(cases_mse)\n",
    "    deaths_mse_list.append(deaths_mse)\n"
   ]
  },
  {
   "cell_type": "code",
   "execution_count": 9,
   "id": "aboriginal-insulation",
   "metadata": {},
   "outputs": [
    {
     "data": {
      "text/plain": [
       "<Figure size 432x288 with 0 Axes>"
      ]
     },
     "metadata": {},
     "output_type": "display_data"
    }
   ],
   "source": [
    "prediction_date = pd.to_datetime(end_date)\n",
    "\n",
    "plot_graph(tuple(cases_mse_list), 'nn_cases_mse.png', prediction_date, region=None)\n",
    "plot_graph(tuple(deaths_mse_list), 'nn_deaths_mse.png', prediction_date, region=None)\n"
   ]
  },
  {
   "cell_type": "code",
   "execution_count": 13,
   "id": "paperback-bacteria",
   "metadata": {},
   "outputs": [
    {
     "data": {
      "text/plain": [
       "<Figure size 432x288 with 0 Axes>"
      ]
     },
     "metadata": {},
     "output_type": "display_data"
    }
   ],
   "source": [
    "plot_graph((Rt_total_nn), '1.png', prediction_date, region=0)\n"
   ]
  },
  {
   "cell_type": "code",
   "execution_count": null,
   "id": "exact-african",
   "metadata": {},
   "outputs": [],
   "source": []
  }
 ],
 "metadata": {
  "kernelspec": {
   "display_name": "Python 3",
   "language": "python",
   "name": "python3"
  },
  "language_info": {
   "codemirror_mode": {
    "name": "ipython",
    "version": 3
   },
   "file_extension": ".py",
   "mimetype": "text/x-python",
   "name": "python",
   "nbconvert_exporter": "python",
   "pygments_lexer": "ipython3",
   "version": "3.8.13"
  }
 },
 "nbformat": 4,
 "nbformat_minor": 5
}
